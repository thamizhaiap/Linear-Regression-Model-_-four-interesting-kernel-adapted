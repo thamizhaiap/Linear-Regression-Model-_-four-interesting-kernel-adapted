{
 "cells": [
  {
   "cell_type": "markdown",
   "metadata": {},
   "source": [
    "\n",
    "I found the following kaggle page for improving my skills on Linear regression. Link for the original document is given below:\n",
    "https://www.kaggle.com/juliencs/a-study-on-regression-applied-to-the-ames-dataset \n",
    "\n",
    "\n",
    "# Introduction\n",
    "\n",
    "This kernel is an attempt to use every trick in the books to unleash the full power of linear regression, including a lot of preprocessing and a look at several regularization algorithms.\n",
    "\n",
    "At the time of writing, it achieves a score of about 0.121 on the public LB, just using regession, no RF, no xgboost, no ensembling, etc. "
   ]
  },
  {
   "cell_type": "code",
   "execution_count": 1,
   "metadata": {},
   "outputs": [],
   "source": [
    "import pandas as pd\n",
    "import numpy as np\n",
    "from sklearn.model_selection import cross_val_score, train_test_split\n",
    "from sklearn.preprocessing import StandardScaler\n",
    "from sklearn.linear_model import LinearRegression, RidgeCV, LassoCV, ElasticNetCV\n",
    "from sklearn.metrics import mean_squared_error, make_scorer\n",
    "from scipy.stats import skew\n",
    "from IPython.display import display\n",
    "import seaborn as sns\n",
    "import matplotlib.pyplot as plt\n",
    "\n",
    "# Definitions\n",
    "pd.set_option('display.float_format', lambda x: '%.3f' % x)\n",
    "\n",
    "%matplotlib inline\n"
   ]
  },
  {
   "cell_type": "code",
   "execution_count": 2,
   "metadata": {},
   "outputs": [
    {
     "name": "stdout",
     "output_type": "stream",
     "text": [
      "train: (1460, 81)\n"
     ]
    }
   ],
   "source": [
    "train = pd.read_csv('train.csv')\n",
    "print('train: '+str(train.shape))"
   ]
  },
  {
   "cell_type": "code",
   "execution_count": 3,
   "metadata": {},
   "outputs": [
    {
     "data": {
      "text/html": [
       "<div>\n",
       "<style scoped>\n",
       "    .dataframe tbody tr th:only-of-type {\n",
       "        vertical-align: middle;\n",
       "    }\n",
       "\n",
       "    .dataframe tbody tr th {\n",
       "        vertical-align: top;\n",
       "    }\n",
       "\n",
       "    .dataframe thead th {\n",
       "        text-align: right;\n",
       "    }\n",
       "</style>\n",
       "<table border=\"1\" class=\"dataframe\">\n",
       "  <thead>\n",
       "    <tr style=\"text-align: right;\">\n",
       "      <th></th>\n",
       "      <th>Id</th>\n",
       "      <th>MSSubClass</th>\n",
       "      <th>MSZoning</th>\n",
       "      <th>LotFrontage</th>\n",
       "      <th>LotArea</th>\n",
       "      <th>Street</th>\n",
       "      <th>Alley</th>\n",
       "      <th>LotShape</th>\n",
       "      <th>LandContour</th>\n",
       "      <th>Utilities</th>\n",
       "      <th>...</th>\n",
       "      <th>PoolArea</th>\n",
       "      <th>PoolQC</th>\n",
       "      <th>Fence</th>\n",
       "      <th>MiscFeature</th>\n",
       "      <th>MiscVal</th>\n",
       "      <th>MoSold</th>\n",
       "      <th>YrSold</th>\n",
       "      <th>SaleType</th>\n",
       "      <th>SaleCondition</th>\n",
       "      <th>SalePrice</th>\n",
       "    </tr>\n",
       "  </thead>\n",
       "  <tbody>\n",
       "    <tr>\n",
       "      <th>0</th>\n",
       "      <td>1</td>\n",
       "      <td>60</td>\n",
       "      <td>RL</td>\n",
       "      <td>65.000</td>\n",
       "      <td>8450</td>\n",
       "      <td>Pave</td>\n",
       "      <td>NaN</td>\n",
       "      <td>Reg</td>\n",
       "      <td>Lvl</td>\n",
       "      <td>AllPub</td>\n",
       "      <td>...</td>\n",
       "      <td>0</td>\n",
       "      <td>NaN</td>\n",
       "      <td>NaN</td>\n",
       "      <td>NaN</td>\n",
       "      <td>0</td>\n",
       "      <td>2</td>\n",
       "      <td>2008</td>\n",
       "      <td>WD</td>\n",
       "      <td>Normal</td>\n",
       "      <td>208500</td>\n",
       "    </tr>\n",
       "    <tr>\n",
       "      <th>1</th>\n",
       "      <td>2</td>\n",
       "      <td>20</td>\n",
       "      <td>RL</td>\n",
       "      <td>80.000</td>\n",
       "      <td>9600</td>\n",
       "      <td>Pave</td>\n",
       "      <td>NaN</td>\n",
       "      <td>Reg</td>\n",
       "      <td>Lvl</td>\n",
       "      <td>AllPub</td>\n",
       "      <td>...</td>\n",
       "      <td>0</td>\n",
       "      <td>NaN</td>\n",
       "      <td>NaN</td>\n",
       "      <td>NaN</td>\n",
       "      <td>0</td>\n",
       "      <td>5</td>\n",
       "      <td>2007</td>\n",
       "      <td>WD</td>\n",
       "      <td>Normal</td>\n",
       "      <td>181500</td>\n",
       "    </tr>\n",
       "    <tr>\n",
       "      <th>2</th>\n",
       "      <td>3</td>\n",
       "      <td>60</td>\n",
       "      <td>RL</td>\n",
       "      <td>68.000</td>\n",
       "      <td>11250</td>\n",
       "      <td>Pave</td>\n",
       "      <td>NaN</td>\n",
       "      <td>IR1</td>\n",
       "      <td>Lvl</td>\n",
       "      <td>AllPub</td>\n",
       "      <td>...</td>\n",
       "      <td>0</td>\n",
       "      <td>NaN</td>\n",
       "      <td>NaN</td>\n",
       "      <td>NaN</td>\n",
       "      <td>0</td>\n",
       "      <td>9</td>\n",
       "      <td>2008</td>\n",
       "      <td>WD</td>\n",
       "      <td>Normal</td>\n",
       "      <td>223500</td>\n",
       "    </tr>\n",
       "    <tr>\n",
       "      <th>3</th>\n",
       "      <td>4</td>\n",
       "      <td>70</td>\n",
       "      <td>RL</td>\n",
       "      <td>60.000</td>\n",
       "      <td>9550</td>\n",
       "      <td>Pave</td>\n",
       "      <td>NaN</td>\n",
       "      <td>IR1</td>\n",
       "      <td>Lvl</td>\n",
       "      <td>AllPub</td>\n",
       "      <td>...</td>\n",
       "      <td>0</td>\n",
       "      <td>NaN</td>\n",
       "      <td>NaN</td>\n",
       "      <td>NaN</td>\n",
       "      <td>0</td>\n",
       "      <td>2</td>\n",
       "      <td>2006</td>\n",
       "      <td>WD</td>\n",
       "      <td>Abnorml</td>\n",
       "      <td>140000</td>\n",
       "    </tr>\n",
       "    <tr>\n",
       "      <th>4</th>\n",
       "      <td>5</td>\n",
       "      <td>60</td>\n",
       "      <td>RL</td>\n",
       "      <td>84.000</td>\n",
       "      <td>14260</td>\n",
       "      <td>Pave</td>\n",
       "      <td>NaN</td>\n",
       "      <td>IR1</td>\n",
       "      <td>Lvl</td>\n",
       "      <td>AllPub</td>\n",
       "      <td>...</td>\n",
       "      <td>0</td>\n",
       "      <td>NaN</td>\n",
       "      <td>NaN</td>\n",
       "      <td>NaN</td>\n",
       "      <td>0</td>\n",
       "      <td>12</td>\n",
       "      <td>2008</td>\n",
       "      <td>WD</td>\n",
       "      <td>Normal</td>\n",
       "      <td>250000</td>\n",
       "    </tr>\n",
       "  </tbody>\n",
       "</table>\n",
       "<p>5 rows × 81 columns</p>\n",
       "</div>"
      ],
      "text/plain": [
       "   Id  MSSubClass MSZoning  LotFrontage  LotArea Street Alley LotShape  \\\n",
       "0   1          60       RL       65.000     8450   Pave   NaN      Reg   \n",
       "1   2          20       RL       80.000     9600   Pave   NaN      Reg   \n",
       "2   3          60       RL       68.000    11250   Pave   NaN      IR1   \n",
       "3   4          70       RL       60.000     9550   Pave   NaN      IR1   \n",
       "4   5          60       RL       84.000    14260   Pave   NaN      IR1   \n",
       "\n",
       "  LandContour Utilities    ...     PoolArea PoolQC Fence MiscFeature MiscVal  \\\n",
       "0         Lvl    AllPub    ...            0    NaN   NaN         NaN       0   \n",
       "1         Lvl    AllPub    ...            0    NaN   NaN         NaN       0   \n",
       "2         Lvl    AllPub    ...            0    NaN   NaN         NaN       0   \n",
       "3         Lvl    AllPub    ...            0    NaN   NaN         NaN       0   \n",
       "4         Lvl    AllPub    ...            0    NaN   NaN         NaN       0   \n",
       "\n",
       "  MoSold YrSold  SaleType  SaleCondition  SalePrice  \n",
       "0      2   2008        WD         Normal     208500  \n",
       "1      5   2007        WD         Normal     181500  \n",
       "2      9   2008        WD         Normal     223500  \n",
       "3      2   2006        WD        Abnorml     140000  \n",
       "4     12   2008        WD         Normal     250000  \n",
       "\n",
       "[5 rows x 81 columns]"
      ]
     },
     "execution_count": 3,
     "metadata": {},
     "output_type": "execute_result"
    }
   ],
   "source": [
    "train.head()"
   ]
  },
  {
   "cell_type": "code",
   "execution_count": 4,
   "metadata": {},
   "outputs": [
    {
     "name": "stdout",
     "output_type": "stream",
     "text": [
      "There are 0 duplicate IDs for 1460 total entries\n"
     ]
    }
   ],
   "source": [
    "#check for duplicates in the ids \n",
    "\n",
    "idsUnique = len(set(train.Id))\n",
    "idsTotal = train.shape[0]\n",
    "idsDup  = idsTotal - idsUnique\n",
    "\n",
    "print('There are ' + str(idsDup) + ' duplicate IDs for ' + str(idsTotal) + ' total entries')"
   ]
  },
  {
   "cell_type": "markdown",
   "metadata": {},
   "source": [
    "# Preprocessing"
   ]
  },
  {
   "cell_type": "code",
   "execution_count": 5,
   "metadata": {},
   "outputs": [
    {
     "data": {
      "image/png": "[encoded data removed]",
      "text/plain": [
       "<Figure size 432x288 with 1 Axes>"
      ]
     },
     "metadata": {
      "needs_background": "light"
     },
     "output_type": "display_data"
    }
   ],
   "source": [
    "#looking for outliers, as indicated in https://ww2.amstat.org/publications/jse/v19n3/decock.pdf\n",
    "\n",
    "plt.scatter(train.GrLivArea, train.SalePrice, c='blue', marker='s')\n",
    "plt.title('Looking for outliers')\n",
    "plt.xlabel('GrLivArea')\n",
    "plt.ylabel('SalePrice')\n",
    "plt.show()"
   ]
  },
  {
   "cell_type": "code",
   "execution_count": 6,
   "metadata": {},
   "outputs": [
    {
     "data": {
      "text/plain": [
       "<matplotlib.axes._subplots.AxesSubplot at 0x7fdbf06c1390>"
      ]
     },
     "execution_count": 6,
     "metadata": {},
     "output_type": "execute_result"
    },
    {
     "data": {
      "image/png": "[encoded data removed]",
      "text/plain": [
       "<Figure size 432x288 with 1 Axes>"
      ]
     },
     "metadata": {
      "needs_background": "light"
     },
     "output_type": "display_data"
    }
   ],
   "source": [
    "sns.scatterplot(x='GrLivArea', y='SalePrice', data=train)"
   ]
  },
  {
   "cell_type": "markdown",
   "metadata": {},
   "source": [
    "This seems to be 2 extreme outliers on the bottom right, really large houses that sold for really cheap price. More generally, the author of the dataset recommends removing any houses with more than 4000 square feet from the datasets\n",
    "\n"
   ]
  },
  {
   "cell_type": "code",
   "execution_count": 7,
   "metadata": {},
   "outputs": [],
   "source": [
    "# Log transform the target for official scoring\n",
    "\n",
    "train.SalePrice = np.log(train.SalePrice)\n",
    "y=train.SalePrice"
   ]
  },
  {
   "cell_type": "markdown",
   "metadata": {},
   "source": [
    "Taking log means that errors in predicting expensive houses and cheap houses will affect the result equally."
   ]
  },
  {
   "cell_type": "code",
   "execution_count": 8,
   "metadata": {},
   "outputs": [],
   "source": [
    "# Handle missing values for features where median/mean or most common value doesn't make sense\n",
    "\n",
    "# Alley: data description says NA means \"no alley access\"\n",
    "train.loc[:,'Alley'] = train.loc[:, \"Alley\"].fillna('None')\n",
    "\n",
    "# BedroomAbvGr: NA most likely means 0\n",
    "train.loc[:,'BedroomAbvGr'] =train.loc[:,'BedroomAbvGr'].fillna(0)\n",
    "\n",
    "#BsmtQual etc: data description says NA for basement feature is no basement\n",
    "train.loc[:, 'BsmtQual']=train.loc[:, 'BsmtQual'].fillna('No')\n",
    "train.loc[:, 'BsmtCond']=train.loc[:, 'BsmtCond'].fillna('No')\n",
    "train.loc[:, 'BsmtExposure']=train.loc[:, 'BsmtExposure'].fillna('No')\n",
    "train.loc[:, 'BsmtFinType1']=train.loc[:, 'BsmtFinType1'].fillna('No')\n",
    "train.loc[:, 'BsmtFinType2']=train.loc[:, 'BsmtFinType2'].fillna('No')\n",
    "train.loc[:, 'BsmtFullBath']=train.loc[:, 'BsmtFullBath'].fillna('No')\n",
    "train.loc[:, 'BsmtHalfBath']=train.loc[:, 'BsmtHalfBath'].fillna('No')\n",
    "train.loc[:, 'BsmtUnfSF']=train.loc[:, 'BsmtUnfSF'].fillna('No')\n",
    "\n",
    "\n",
    "# centralAir: NA mostlikely means No\n",
    "train.loc[:, 'CentralAir']=train.loc[:, 'CentralAir'].fillna('No')\n",
    "\n",
    "#condition: NA most likely means Normal\n",
    "train.loc[:, 'Condition1']=train.loc[:, 'Condition1'].fillna('Norm')\n",
    "train.loc[:, 'Condition2']=train.loc[:, 'Condition2'].fillna('Norm')\n",
    "\n",
    "#enclosed port: NA most likely means no enclosed porch\n",
    "train.loc[:, 'EnclosedPorch']=train.loc[:, 'EnclosedPorch'].fillna(0)\n",
    "\n",
    "#External stuff: NA most likely means average\n",
    "train.loc[:, 'ExterCond']=train.loc[:, 'ExterCond'].fillna('TA')\n",
    "train.loc[:, 'ExterQual']=train.loc[:, 'ExterQual'].fillna('TA')\n",
    "\n",
    "# Fence: Data description says NA means No fence\n",
    "train.loc[:,'Fence']=train.loc[:,'Fence'].fillna('No')\n",
    "\n",
    "#FireplaceQu : NA mean no fireplace\n",
    "train.loc[:, 'FireplaceQu']=train.loc[:, 'FireplaceQu'].fillna('No')\n",
    "train.loc[:, 'Fireplaces']=train.loc[:, 'Fireplaces'].fillna(0)\n",
    "\n",
    "# Functional: NA means typical\n",
    "train.loc[:, 'Functional']=train.loc[:, 'Functional'].fillna('Typ')\n",
    "\n",
    "# Garage tyep: NA means no garage\n",
    "train.loc[:, 'GarageType'] = train.loc[:, 'GarageType'].fillna('No')\n",
    "train.loc[:, 'GarageFinish'] = train.loc[:, 'GarageFinish'].fillna('No')\n",
    "train.loc[:, 'GarageQual'] = train.loc[:, 'GarageQual'].fillna('No')\n",
    "train.loc[:, 'GarageCond'] = train.loc[:, 'GarageCond'].fillna('No')\n",
    "train.loc[:, 'GarageArea'] = train.loc[:, 'GarageArea'].fillna('No')\n",
    "train.loc[:, 'GarageCars'] = train.loc[:, 'GarageCars'].fillna('No')\n",
    "\n",
    "# HalfBath : NA most likely means no half baths above grade\n",
    "train.loc[:, \"HalfBath\"] = train.loc[:, \"HalfBath\"].fillna(0)\n",
    "\n",
    "# HeatingQC : NA most likely means typical\n",
    "train.loc[:, \"HeatingQC\"] = train.loc[:, \"HeatingQC\"].fillna(\"TA\")\n",
    "\n",
    "# KitchenAbvGr : NA most likely means 0\n",
    "train.loc[:, \"KitchenAbvGr\"] = train.loc[:, \"KitchenAbvGr\"].fillna(0)\n",
    "\n",
    "# KitchenQual : NA most likely means typical\n",
    "train.loc[:, \"KitchenQual\"] = train.loc[:, \"KitchenQual\"].fillna(\"TA\")\n",
    "\n",
    "# LotFrontage : NA most likely means no lot frontage\n",
    "train.loc[:, \"LotFrontage\"] = train.loc[:, \"LotFrontage\"].fillna(0)\n",
    "\n",
    "# LotShape : NA most likely means regular\n",
    "train.loc[:, \"LotShape\"] = train.loc[:, \"LotShape\"].fillna(\"Reg\")\n",
    "\n",
    "# MasVnrType : NA most likely means no veneer\n",
    "train.loc[:, \"MasVnrType\"] = train.loc[:, \"MasVnrType\"].fillna(\"None\")\n",
    "train.loc[:, \"MasVnrArea\"] = train.loc[:, \"MasVnrArea\"].fillna(0)\n",
    "\n",
    "# MiscFeature : data description says NA means \"no misc feature\"\n",
    "train.loc[:, \"MiscFeature\"] = train.loc[:, \"MiscFeature\"].fillna(\"No\")\n",
    "train.loc[:, \"MiscVal\"] = train.loc[:, \"MiscVal\"].fillna(0)\n",
    "\n",
    "# OpenPorchSF : NA most likely means no open porch\n",
    "train.loc[:, \"OpenPorchSF\"] = train.loc[:, \"OpenPorchSF\"].fillna(0)\n",
    "\n",
    "# PavedDrive : NA most likely means not paved\n",
    "train.loc[:, \"PavedDrive\"] = train.loc[:, \"PavedDrive\"].fillna(\"N\")\n",
    "\n",
    "\n",
    "# PoolQC : data description says NA means \"no pool\"\n",
    "train.loc[:, \"PoolQC\"] = train.loc[:, \"PoolQC\"].fillna(\"No\")\n",
    "train.loc[:, \"PoolArea\"] = train.loc[:, \"PoolArea\"].fillna(0)\n",
    "\n",
    "# SaleCondition : NA most likely means normal sale\n",
    "train.loc[:, \"SaleCondition\"] = train.loc[:, \"SaleCondition\"].fillna(\"Normal\")\n",
    "\n",
    "# ScreenPorch : NA most likely means no screen porch\n",
    "train.loc[:, \"ScreenPorch\"] = train.loc[:, \"ScreenPorch\"].fillna(0)\n",
    "\n",
    "# TotRmsAbvGrd : NA most likely means 0\n",
    "train.loc[:, \"TotRmsAbvGrd\"] = train.loc[:, \"TotRmsAbvGrd\"].fillna(0)\n",
    "\n",
    "# Utilities : NA most likely means all public utilities\n",
    "train.loc[:, \"Utilities\"] = train.loc[:, \"Utilities\"].fillna(\"AllPub\")\n",
    "\n",
    "# WoodDeckSF : NA most likely means no wood deck\n",
    "train.loc[:, \"WoodDeckSF\"] = train.loc[:, \"WoodDeckSF\"].fillna(0)"
   ]
  },
  {
   "cell_type": "code",
   "execution_count": 9,
   "metadata": {},
   "outputs": [],
   "source": [
    "# some numerical features are really categories\n",
    "\n",
    "train = train.replace({'MSSubClass' : {20: 'SC20', 30: 'SC30', \n",
    "                                       40: 'SC40', 45: 'SC45', \n",
    "                                       50: 'SC50', 60: 'SC60',\n",
    "                                       70: 'SC70', 75: 'SC75',\n",
    "                                       80: 'SC80', 85: 'SC85', \n",
    "                                       90: 'SC90', 120:'SC120', \n",
    "                                       150:'SC150',160:'SC160',\n",
    "                                       180:'SC180',190:'SC190'}, \n",
    "                       'MoSold' : {1: 'Jan', 2: 'Feb', 3: 'Mar', 4: 'Apr',\n",
    "                                   5: 'May', 6: 'Jun', 7: 'Jul', 8: 'Aug',\n",
    "                                   9: 'Sep',10: 'Oct',11:'Nov', 12:'Dec'}})\n"
   ]
  },
  {
   "cell_type": "code",
   "execution_count": 10,
   "metadata": {},
   "outputs": [],
   "source": [
    "# Encode some categorical features as ordered numbers when there is information in order\n",
    "\n",
    "train = train.replace({ 'Alley':        {'Grvl': 1, 'Pave':2},\n",
    "                        'BsmtCond':{'No':0, 'Po':1, 'Fa':2, 'TA':3, 'Gd':4, 'Ex':5},\n",
    "                        'BsmtExposure':{'No':0,'Mn':1,'Av':2,'Gd':3},\n",
    "                        'BsmtFinType1':{'No':0, 'Unf':1, 'LwQ':2,'Rec':3, 'BLQ':4, 'ALQ':5, 'GLQ':6},\n",
    "          \n",
    "                        \"BsmtFinType2\":{\"No\" : 0, \"Unf\" : 1, \"LwQ\": 2, \"Rec\" : 3, \"BLQ\" : 4,\"ALQ\" : 5, \"GLQ\" : 6},\n",
    "                        \"BsmtQual\" :   {\"No\" : 0, \"Po\" : 1, \"Fa\" : 2, \"TA\": 3, \"Gd\" : 4, \"Ex\" : 5},\n",
    "                        \"ExterCond\" :  {\"Po\" : 1, \"Fa\" : 2, \"TA\": 3, \"Gd\": 4, \"Ex\" : 5},\n",
    "                        \"ExterQual\" :  {\"Po\" : 1, \"Fa\" : 2, \"TA\": 3, \"Gd\": 4, \"Ex\" : 5},\n",
    "                        \"FireplaceQu\" :{\"No\" : 0, \"Po\" : 1, \"Fa\" : 2, \"TA\" : 3, \"Gd\" : 4, \"Ex\" : 5},\n",
    "                        \"Functional\" : {\"Sal\" : 1, \"Sev\" : 2, \"Maj2\" : 3, \"Maj1\" : 4, \"Mod\": 5, \"Min2\" : 6, \"Min1\" : 7, \"Typ\" : 8},\n",
    "                        \"GarageCond\" : {\"No\" : 0, \"Po\" : 1, \"Fa\" : 2, \"TA\" : 3, \"Gd\" : 4, \"Ex\" : 5},\n",
    "                        \"GarageQual\" : {\"No\" : 0, \"Po\" : 1, \"Fa\" : 2, \"TA\" : 3, \"Gd\" : 4, \"Ex\" : 5},\n",
    "                        \"HeatingQC\" :  {\"Po\" : 1, \"Fa\" : 2, \"TA\" : 3, \"Gd\" : 4, \"Ex\" : 5},\n",
    "                        \"KitchenQual\" :{\"Po\" : 1, \"Fa\" : 2, \"TA\" : 3, \"Gd\" : 4, \"Ex\" : 5},\n",
    "                        \"LandSlope\" :  {\"Sev\" : 1, \"Mod\" : 2, \"Gtl\" : 3},\n",
    "                        \"LotShape\" :   {\"IR3\" : 1, \"IR2\" : 2, \"IR1\" : 3, \"Reg\" : 4},\n",
    "                        \"PavedDrive\" : {\"N\" : 0, \"P\" : 1, \"Y\" : 2},\n",
    "                        \"PoolQC\" :     {\"No\" : 0, \"Fa\" : 1, \"TA\" : 2, \"Gd\" : 3, \"Ex\" : 4},\n",
    "                        \"Street\" :     {\"Grvl\" : 1, \"Pave\" : 2},\n",
    "                        \"Utilities\" :  {\"ELO\" : 1, \"NoSeWa\" : 2, \"NoSewr\" : 3, \"AllPub\" : 4}\n",
    "                      })"
   ]
  },
  {
   "cell_type": "markdown",
   "metadata": {},
   "source": [
    "Then we will create new features in 3 ways,\n",
    "\n",
    "1. simplication of existing features\n",
    "2. combination of existing features\n",
    "3. polynomials on the top 10 existing features"
   ]
  },
  {
   "cell_type": "code",
   "execution_count": 11,
   "metadata": {},
   "outputs": [],
   "source": [
    "# on the top 10 existing features\n",
    "# Create new features\n",
    "# 1* Simplifications of existing features\n",
    "train[\"SimplOverallQual\"] = train.OverallQual.replace({1 : 1, 2 : 1, 3 : 1, # bad\n",
    "                                                       4 : 2, 5 : 2, 6 : 2, # average\n",
    "                                                       7 : 3, 8 : 3, 9 : 3, 10 : 3 # good\n",
    "                                                      })\n",
    "train[\"SimplOverallCond\"] = train.OverallCond.replace({1 : 1, 2 : 1, 3 : 1, # bad\n",
    "                                                       4 : 2, 5 : 2, 6 : 2, # average\n",
    "                                                       7 : 3, 8 : 3, 9 : 3, 10 : 3 # good\n",
    "                                                      })\n",
    "train[\"SimplPoolQC\"] = train.PoolQC.replace({1 : 1, 2 : 1, # average\n",
    "                                             3 : 2, 4 : 2 # good\n",
    "                                            })\n",
    "train[\"SimplGarageCond\"] = train.GarageCond.replace({1 : 1, # bad\n",
    "                                                     2 : 1, 3 : 1, # average\n",
    "                                                     4 : 2, 5 : 2 # good\n",
    "                                                    })\n",
    "train[\"SimplGarageQual\"] = train.GarageQual.replace({1 : 1, # bad\n",
    "                                                     2 : 1, 3 : 1, # average\n",
    "                                                     4 : 2, 5 : 2 # good\n",
    "                                                    })\n",
    "train[\"SimplFireplaceQu\"] = train.FireplaceQu.replace({1 : 1, # bad\n",
    "                                                       2 : 1, 3 : 1, # average\n",
    "                                                       4 : 2, 5 : 2 # good\n",
    "                                                      })\n",
    "train[\"SimplFireplaceQu\"] = train.FireplaceQu.replace({1 : 1, # bad\n",
    "                                                       2 : 1, 3 : 1, # average\n",
    "                                                       4 : 2, 5 : 2 # good\n",
    "                                                      })\n",
    "train[\"SimplFunctional\"] = train.Functional.replace({1 : 1, 2 : 1, # bad\n",
    "                                                     3 : 2, 4 : 2, # major\n",
    "                                                     5 : 3, 6 : 3, 7 : 3, # minor\n",
    "                                                     8 : 4 # typical\n",
    "                                                    })\n",
    "train[\"SimplKitchenQual\"] = train.KitchenQual.replace({1 : 1, # bad\n",
    "                                                       2 : 1, 3 : 1, # average\n",
    "                                                       4 : 2, 5 : 2 # good\n",
    "                                                      })\n",
    "train[\"SimplHeatingQC\"] = train.HeatingQC.replace({1 : 1, # bad\n",
    "                                                   2 : 1, 3 : 1, # average\n",
    "                                                   4 : 2, 5 : 2 # good\n",
    "                                                  })\n",
    "train[\"SimplBsmtFinType1\"] = train.BsmtFinType1.replace({1 : 1, # unfinished\n",
    "                                                         2 : 1, 3 : 1, # rec room\n",
    "                                                         4 : 2, 5 : 2, 6 : 2 # living quarters\n",
    "                                                        })\n",
    "train[\"SimplBsmtFinType2\"] = train.BsmtFinType2.replace({1 : 1, # unfinished\n",
    "                                                         2 : 1, 3 : 1, # rec room\n",
    "                                                         4 : 2, 5 : 2, 6 : 2 # living quarters\n",
    "                                                        })\n",
    "train[\"SimplBsmtCond\"] = train.BsmtCond.replace({1 : 1, # bad\n",
    "                                                 2 : 1, 3 : 1, # average\n",
    "                                                 4 : 2, 5 : 2 # good\n",
    "                                                })\n",
    "train[\"SimplBsmtQual\"] = train.BsmtQual.replace({1 : 1, # bad\n",
    "                                                 2 : 1, 3 : 1, # average\n",
    "                                                 4 : 2, 5 : 2 # good\n",
    "                                                })\n",
    "train[\"SimplExterCond\"] = train.ExterCond.replace({1 : 1, # bad\n",
    "                                                   2 : 1, 3 : 1, # average\n",
    "                                                   4 : 2, 5 : 2 # good\n",
    "                                                  })\n",
    "train[\"SimplExterQual\"] = train.ExterQual.replace({1 : 1, # bad\n",
    "                                                   2 : 1, 3 : 1, # average\n",
    "                                                   4 : 2, 5 : 2 # good\n",
    "                                                  })"
   ]
  },
  {
   "cell_type": "code",
   "execution_count": 12,
   "metadata": {},
   "outputs": [],
   "source": [
    "# 2* Combinations of existing features\n",
    "# Overall quality of the house\n",
    "train[\"OverallGrade\"] = train[\"OverallQual\"] * train[\"OverallCond\"]\n",
    "\n",
    "# Overall quality of the garage\n",
    "train[\"GarageGrade\"] = train[\"GarageQual\"] * train[\"GarageCond\"]\n",
    "\n",
    "# Overall quality of the exterior\n",
    "train[\"ExterGrade\"] = train[\"ExterQual\"] * train[\"ExterCond\"]\n",
    "\n",
    "# Overall kitchen score\n",
    "train[\"KitchenScore\"] = train[\"KitchenAbvGr\"] * train[\"KitchenQual\"]\n",
    "\n",
    "# Overall fireplace score\n",
    "train[\"FireplaceScore\"] = train[\"Fireplaces\"] * train[\"FireplaceQu\"]\n",
    "\n",
    "# Overall garage score\n",
    "train[\"GarageScore\"] = train[\"GarageArea\"] * train[\"GarageQual\"]\n",
    "\n",
    "# Overall pool score\n",
    "train[\"PoolScore\"] = train[\"PoolArea\"] * train[\"PoolQC\"]\n",
    "\n",
    "# Simplified overall quality of the house\n",
    "train[\"SimplOverallGrade\"] = train[\"SimplOverallQual\"] * train[\"SimplOverallCond\"]\n",
    "\n",
    "# Simplified overall quality of the exterior\n",
    "train[\"SimplExterGrade\"] = train[\"SimplExterQual\"] * train[\"SimplExterCond\"]\n",
    "\n",
    "# Simplified overall pool score\n",
    "train[\"SimplPoolScore\"] = train[\"PoolArea\"] * train[\"SimplPoolQC\"]\n",
    "\n",
    "# Simplified overall garage score\n",
    "train[\"SimplGarageScore\"] = train[\"GarageArea\"] * train[\"SimplGarageQual\"]\n",
    "\n",
    "# Simplified overall fireplace score\n",
    "train[\"SimplFireplaceScore\"] = train[\"Fireplaces\"] * train[\"SimplFireplaceQu\"]\n",
    "\n",
    "# Simplified overall kitchen score\n",
    "train[\"SimplKitchenScore\"] = train[\"KitchenAbvGr\"] * train[\"SimplKitchenQual\"]\n",
    "\n",
    "# Total number of bathrooms\n",
    "train[\"TotalBath\"] = train[\"BsmtFullBath\"] + (0.5 * train[\"BsmtHalfBath\"]) + train[\"FullBath\"] + (0.5 * train[\"HalfBath\"])\n",
    "\n",
    "# Total SF for house (incl. basement)\n",
    "train[\"AllSF\"] = train[\"GrLivArea\"] + train[\"TotalBsmtSF\"]\n",
    "\n",
    "# Total SF for 1st + 2nd floors\n",
    "train[\"AllFlrsSF\"] = train[\"1stFlrSF\"] + train[\"2ndFlrSF\"]\n",
    "\n",
    "# Total SF for porch\n",
    "train[\"AllPorchSF\"] = train[\"OpenPorchSF\"] + train[\"EnclosedPorch\"] + train[\"3SsnPorch\"] + train[\"ScreenPorch\"]\n",
    "\n",
    "# Has masonry veneer or not\n",
    "train[\"HasMasVnr\"] = train.MasVnrType.replace({\"BrkCmn\" : 1, \"BrkFace\" : 1, \"CBlock\" : 1, \"Stone\" : 1, \"None\" : 0})\n",
    "\n",
    "# House completed before sale or not\n",
    "train[\"BoughtOffPlan\"] = train.SaleCondition.replace({\"Abnorml\" : 0, \"Alloca\" : 0, \"AdjLand\" : 0, \"Family\" : 0, \"Normal\" : 0, \"Partial\" : 1})"
   ]
  },
  {
   "cell_type": "code",
   "execution_count": 13,
   "metadata": {},
   "outputs": [],
   "source": [
    "# print('Find most important features relative to target')\n",
    "\n",
    "corr = train.corr().sort_values(['SalePrice'],ascending=False)\n",
    "\n"
   ]
  },
  {
   "cell_type": "code",
   "execution_count": 14,
   "metadata": {},
   "outputs": [
    {
     "name": "stdout",
     "output_type": "stream",
     "text": [
      "SalePrice            1.000\n",
      "OverallQual          0.817\n",
      "AllSF                0.773\n",
      "AllFlrsSF            0.710\n",
      "SimplOverallQual     0.706\n",
      "GrLivArea            0.701\n",
      "GarageCars           0.681\n",
      "ExterQual            0.679\n",
      "TotalBath            0.673\n",
      "KitchenQual          0.668\n",
      "GarageScore          0.653\n",
      "GarageArea           0.651\n",
      "SimplExterQual       0.635\n",
      "SimplGarageScore     0.627\n",
      "BsmtQual             0.616\n",
      "TotalBsmtSF          0.612\n",
      "SimplKitchenQual     0.609\n",
      "OverallGrade         0.607\n",
      "1stFlrSF             0.597\n",
      "FullBath             0.595\n",
      "SimplBsmtQual        0.592\n",
      "YearBuilt            0.587\n",
      "ExterGrade           0.586\n",
      "YearRemodAdd         0.566\n",
      "FireplaceQu          0.546\n",
      "GarageYrBlt          0.541\n",
      "TotRmsAbvGrd         0.534\n",
      "SimplOverallGrade    0.525\n",
      "SimplKitchenScore    0.523\n",
      "FireplaceScore       0.520\n",
      "                     ...  \n",
      "SimplBsmtCond        0.202\n",
      "AllPorchSF           0.195\n",
      "LotFrontage          0.179\n",
      "SimplFunctional      0.137\n",
      "Functional           0.136\n",
      "ScreenPorch          0.121\n",
      "SimplBsmtFinType2    0.104\n",
      "PoolScore            0.079\n",
      "PoolQC               0.078\n",
      "SimplPoolScore       0.073\n",
      "SimplPoolQC          0.072\n",
      "PoolArea             0.070\n",
      "Street               0.057\n",
      "3SsnPorch            0.055\n",
      "ExterCond            0.049\n",
      "BsmtFinType2         0.014\n",
      "Utilities            0.013\n",
      "BsmtFinSF2           0.005\n",
      "BsmtHalfBath        -0.005\n",
      "Id                  -0.018\n",
      "MiscVal             -0.020\n",
      "SimplOverallCond    -0.030\n",
      "OverallCond         -0.037\n",
      "YrSold              -0.037\n",
      "LowQualFinSF        -0.038\n",
      "LandSlope           -0.039\n",
      "SimplExterCond      -0.044\n",
      "KitchenAbvGr        -0.148\n",
      "EnclosedPorch       -0.149\n",
      "LotShape            -0.286\n",
      "Name: SalePrice, Length: 89, dtype: float64\n"
     ]
    }
   ],
   "source": [
    "print(corr.SalePrice)"
   ]
  },
  {
   "cell_type": "code",
   "execution_count": 15,
   "metadata": {},
   "outputs": [],
   "source": [
    "# Create new features\n",
    "# 3* Polynomials on the top 10 existing features\n",
    "train[\"OverallQual-s2\"] = train[\"OverallQual\"] ** 2\n",
    "train[\"OverallQual-s3\"] = train[\"OverallQual\"] ** 3\n",
    "train[\"OverallQual-Sq\"] = np.sqrt(train[\"OverallQual\"])\n",
    "train[\"AllSF-2\"] = train[\"AllSF\"] ** 2\n",
    "train[\"AllSF-3\"] = train[\"AllSF\"] ** 3\n",
    "train[\"AllSF-Sq\"] = np.sqrt(train[\"AllSF\"])\n",
    "train[\"AllFlrsSF-2\"] = train[\"AllFlrsSF\"] ** 2\n",
    "train[\"AllFlrsSF-3\"] = train[\"AllFlrsSF\"] ** 3\n",
    "train[\"AllFlrsSF-Sq\"] = np.sqrt(train[\"AllFlrsSF\"])\n",
    "train[\"GrLivArea-2\"] = train[\"GrLivArea\"] ** 2\n",
    "train[\"GrLivArea-3\"] = train[\"GrLivArea\"] ** 3\n",
    "train[\"GrLivArea-Sq\"] = np.sqrt(train[\"GrLivArea\"])\n",
    "train[\"SimplOverallQual-s2\"] = train[\"SimplOverallQual\"] ** 2\n",
    "train[\"SimplOverallQual-s3\"] = train[\"SimplOverallQual\"] ** 3\n",
    "train[\"SimplOverallQual-Sq\"] = np.sqrt(train[\"SimplOverallQual\"])\n",
    "train[\"ExterQual-2\"] = train[\"ExterQual\"] ** 2\n",
    "train[\"ExterQual-3\"] = train[\"ExterQual\"] ** 3\n",
    "train[\"ExterQual-Sq\"] = np.sqrt(train[\"ExterQual\"])\n",
    "train[\"GarageCars-2\"] = train[\"GarageCars\"] ** 2\n",
    "train[\"GarageCars-3\"] = train[\"GarageCars\"] ** 3\n",
    "train[\"GarageCars-Sq\"] = np.sqrt(train[\"GarageCars\"])\n",
    "train[\"TotalBath-2\"] = train[\"TotalBath\"] ** 2\n",
    "train[\"TotalBath-3\"] = train[\"TotalBath\"] ** 3\n",
    "train[\"TotalBath-Sq\"] = np.sqrt(train[\"TotalBath\"])\n",
    "train[\"KitchenQual-2\"] = train[\"KitchenQual\"] ** 2\n",
    "train[\"KitchenQual-3\"] = train[\"KitchenQual\"] ** 3\n",
    "train[\"KitchenQual-Sq\"] = np.sqrt(train[\"KitchenQual\"])\n",
    "train[\"GarageScore-2\"] = train[\"GarageScore\"] ** 2\n",
    "train[\"GarageScore-3\"] = train[\"GarageScore\"] ** 3\n",
    "train[\"GarageScore-Sq\"] = np.sqrt(train[\"GarageScore\"])"
   ]
  },
  {
   "cell_type": "code",
   "execution_count": 16,
   "metadata": {},
   "outputs": [
    {
     "name": "stdout",
     "output_type": "stream",
     "text": [
      "categorical feature: 26\n",
      "numerical feature: 118\n"
     ]
    }
   ],
   "source": [
    "# Differentiate numerical features (minus the target) and categorical features\n",
    "\n",
    "categorical_features = train.select_dtypes(include=['object']).columns\n",
    "numerical_features = train.select_dtypes(exclude=['object']).columns\n",
    "numerical_features = numerical_features.drop('SalePrice')\n",
    "print('categorical feature: '+ str(len(categorical_features)))\n",
    "print('numerical feature: '+ str(len(numerical_features)))\n",
    "\n",
    "train_num = train[numerical_features]\n",
    "train_cat = train[categorical_features]"
   ]
  },
  {
   "cell_type": "code",
   "execution_count": 17,
   "metadata": {},
   "outputs": [
    {
     "data": {
      "text/plain": [
       "(1460, 145)"
      ]
     },
     "execution_count": 17,
     "metadata": {},
     "output_type": "execute_result"
    }
   ],
   "source": [
    "train.shape"
   ]
  },
  {
   "cell_type": "code",
   "execution_count": 18,
   "metadata": {},
   "outputs": [
    {
     "name": "stdout",
     "output_type": "stream",
     "text": [
      "NAs for numerical features in train: 81\n",
      "Remaining NAs for numerical features in train: 0\n"
     ]
    }
   ],
   "source": [
    "# Handle remaining missing values for numerical features by using median as replacement\n",
    "\n",
    "print('NAs for numerical features in train: ' + str(train_num.isnull().values.sum()))\n",
    "train_num = train_num.fillna(train_num.median())\n",
    "\n",
    "print('Remaining NAs for numerical features in train: '+ str(train_num.isnull().values.sum()))"
   ]
  },
  {
   "cell_type": "code",
   "execution_count": 19,
   "metadata": {},
   "outputs": [
    {
     "data": {
      "text/plain": [
       "MiscVal          24.452\n",
       "AllSF-3          23.954\n",
       "PoolScore        16.834\n",
       "PoolQC           16.834\n",
       "SimplPoolScore   16.017\n",
       "SimplPoolQC      15.456\n",
       "PoolArea         14.813\n",
       "LotArea          12.195\n",
       "AllFlrsSF-3      11.146\n",
       "GrLivArea-3      10.686\n",
       "dtype: float64"
      ]
     },
     "execution_count": 19,
     "metadata": {},
     "output_type": "execute_result"
    }
   ],
   "source": [
    "# Log transformation of the skewed numerical features to lession impact of outliers\n",
    "\n",
    "# Inspired by Alexandru Papiu's script : https://www.kaggle.com/apapiu/house-prices-advanced-regression-techniques/regularized-linear-models\n",
    "\n",
    "# As a general rule of thumb, a skewness with an absolute value>0.5 is considered at least moderately skewed\n",
    "\n",
    "skewness = train_num.apply(lambda x: skew(x))\n",
    "skewness.sort_values(ascending=False).head(10)"
   ]
  },
  {
   "cell_type": "code",
   "execution_count": 20,
   "metadata": {},
   "outputs": [
    {
     "name": "stdout",
     "output_type": "stream",
     "text": [
      "91 skewed numerical features to log transform\n"
     ]
    }
   ],
   "source": [
    "skewness=skewness[abs(skewness)>0.5]\n",
    "\n",
    "print(str(skewness.shape[0])+ ' skewed numerical features to log transform')\n",
    "skewed_features=skewness.index\n",
    "\n",
    "train_num[skewed_features]=np.log1p(train_num[skewed_features])"
   ]
  },
  {
   "cell_type": "code",
   "execution_count": 21,
   "metadata": {},
   "outputs": [
    {
     "name": "stdout",
     "output_type": "stream",
     "text": [
      "NAs for categorical features in train: 1\n",
      "Remaining NAs for categorical features in train: 0\n"
     ]
    }
   ],
   "source": [
    "#create dummy features for categorical values via one-hot encoding\n",
    "\n",
    "print('NAs for categorical features in train: '+ str(train_cat.isnull().values.sum()))\n",
    "train_cat =  pd.get_dummies(train_cat)\n",
    "\n",
    "print('Remaining NAs for categorical features in train: '+str(train_cat.isnull().values.sum()))"
   ]
  },
  {
   "cell_type": "markdown",
   "metadata": {},
   "source": [
    "# modelling"
   ]
  },
  {
   "cell_type": "code",
   "execution_count": 22,
   "metadata": {},
   "outputs": [
    {
     "name": "stdout",
     "output_type": "stream",
     "text": [
      "New number of features: 321\n"
     ]
    }
   ],
   "source": [
    "# join categorical and numerical features\n",
    "\n",
    "train = pd.concat([train_num, train_cat], axis=1)\n",
    "print('New number of features: '+str(train.shape[1]))"
   ]
  },
  {
   "cell_type": "code",
   "execution_count": 24,
   "metadata": {},
   "outputs": [
    {
     "data": {
      "text/plain": [
       "(1460, 118)"
      ]
     },
     "execution_count": 24,
     "metadata": {},
     "output_type": "execute_result"
    }
   ],
   "source": [
    "train_num.shape\n"
   ]
  },
  {
   "cell_type": "code",
   "execution_count": 25,
   "metadata": {},
   "outputs": [
    {
     "data": {
      "text/plain": [
       "(1460, 203)"
      ]
     },
     "execution_count": 25,
     "metadata": {},
     "output_type": "execute_result"
    }
   ],
   "source": [
    "train_cat.shape"
   ]
  },
  {
   "cell_type": "code",
   "execution_count": 27,
   "metadata": {},
   "outputs": [
    {
     "name": "stdout",
     "output_type": "stream",
     "text": [
      "(1022, 321) is the shape of X_train\n",
      "(438, 321) is the shape of X_test\n",
      "(1022,)  is the shape of y train\n",
      "(438,)  is the shape of y test\n"
     ]
    }
   ],
   "source": [
    "# partition the dataset in train+validation sets\n",
    "\n",
    "X_train, X_test, y_train, y_test = train_test_split(train, y, test_size=0.3, random_state=0)\n",
    "\n",
    "print(str(X_train.shape) + ' is the shape of X_train')\n",
    "print(str(X_test.shape)+ ' is the shape of X_test')\n",
    "print(y_train.shape, ' is the shape of y train')\n",
    "print(y_test.shape, ' is the shape of y test')"
   ]
  },
  {
   "cell_type": "code",
   "execution_count": 28,
   "metadata": {},
   "outputs": [
    {
     "name": "stderr",
     "output_type": "stream",
     "text": [
      "/home/tam/anaconda3/lib/python3.7/site-packages/sklearn/preprocessing/data.py:645: DataConversionWarning: Data with input dtype int64, float64 were all converted to float64 by StandardScaler.\n",
      "  return self.partial_fit(X, y)\n",
      "/home/tam/anaconda3/lib/python3.7/site-packages/sklearn/base.py:464: DataConversionWarning: Data with input dtype int64, float64 were all converted to float64 by StandardScaler.\n",
      "  return self.fit(X, **fit_params).transform(X)\n",
      "/home/tam/anaconda3/lib/python3.7/site-packages/pandas/core/indexing.py:543: SettingWithCopyWarning: \n",
      "A value is trying to be set on a copy of a slice from a DataFrame.\n",
      "Try using .loc[row_indexer,col_indexer] = value instead\n",
      "\n",
      "See the caveats in the documentation: http://pandas.pydata.org/pandas-docs/stable/indexing.html#indexing-view-versus-copy\n",
      "  self.obj[item] = s\n",
      "/home/tam/anaconda3/lib/python3.7/site-packages/sklearn/preprocessing/data.py:645: DataConversionWarning: Data with input dtype int64, float64 were all converted to float64 by StandardScaler.\n",
      "  return self.partial_fit(X, y)\n",
      "/home/tam/anaconda3/lib/python3.7/site-packages/sklearn/base.py:464: DataConversionWarning: Data with input dtype int64, float64 were all converted to float64 by StandardScaler.\n",
      "  return self.fit(X, **fit_params).transform(X)\n",
      "/home/tam/anaconda3/lib/python3.7/site-packages/pandas/core/indexing.py:543: SettingWithCopyWarning: \n",
      "A value is trying to be set on a copy of a slice from a DataFrame.\n",
      "Try using .loc[row_indexer,col_indexer] = value instead\n",
      "\n",
      "See the caveats in the documentation: http://pandas.pydata.org/pandas-docs/stable/indexing.html#indexing-view-versus-copy\n",
      "  self.obj[item] = s\n"
     ]
    }
   ],
   "source": [
    "# standardize numerical features\n",
    "\n",
    "stdSc=StandardScaler()\n",
    "X_train.loc[:, numerical_features]=stdSc.fit_transform(X_train.loc[:,numerical_features])\n",
    "X_test.loc[:, numerical_features]=stdSc.fit_transform(X_test.loc[:, numerical_features])\n"
   ]
  },
  {
   "cell_type": "markdown",
   "metadata": {},
   "source": [
    "Standardization cann't be done before the partitioning, as we dont want to fit the StandardScalar on some observations that will later be used in the test set."
   ]
  },
  {
   "cell_type": "code",
   "execution_count": 29,
   "metadata": {},
   "outputs": [],
   "source": [
    "# Define error meausure for official scoring: RMSE\n",
    "\n",
    "scorer = make_scorer(mean_squared_error, greater_is_better=False)\n",
    "\n",
    "def rmse_cv_train(model):\n",
    "    rmse = np.sqrt(-cross_val_score(model, X_train, y_train, scoring=scorer, cv=10))\n",
    "    return(rmse)\n",
    "\n",
    "def rmse_cv_test(model):\n",
    "    rmse = np.sqrt(-cross_val_score(model, X_test, y_test, scoring=scorer, cv=10))\n",
    "    return (rmse)"
   ]
  },
  {
   "cell_type": "markdown",
   "metadata": {},
   "source": [
    "Note: I am not getting nearly the same numbers in local CV compared to the public LB. so i am a tad worried that my CV process may have an issue somewhere. "
   ]
  },
  {
   "cell_type": "markdown",
   "metadata": {},
   "source": [
    "# 1. Linear Regression without Regularization"
   ]
  },
  {
   "cell_type": "code",
   "execution_count": 33,
   "metadata": {},
   "outputs": [
    {
     "name": "stdout",
     "output_type": "stream",
     "text": [
      "RMSE on Training set:  0.23285167942491297\n",
      "RMSE on Test set:  4.1563389537007005\n"
     ]
    },
    {
     "data": {
      "image/png": "[encoded data removed]",
      "text/plain": [
       "<Figure size 432x288 with 1 Axes>"
      ]
     },
     "metadata": {
      "needs_background": "light"
     },
     "output_type": "display_data"
    },
    {
     "data": {
      "image/png": "[encoded data removed]",
      "text/plain": [
       "<Figure size 432x288 with 1 Axes>"
      ]
     },
     "metadata": {
      "needs_background": "light"
     },
     "output_type": "display_data"
    }
   ],
   "source": [
    "lr = LinearRegression()\n",
    "lr.fit(X_train, y_train)\n",
    "\n",
    "# Look at predictions on training and validation set\n",
    "\n",
    "print('RMSE on Training set: ', rmse_cv_train(lr).mean())\n",
    "print('RMSE on Test set: ', rmse_cv_test(lr).mean())\n",
    "\n",
    "y_train_pred=lr.predict(X_train)\n",
    "y_test_pred = lr.predict(X_test)\n",
    "\n",
    "\n",
    "# plor residual\n",
    "plt.scatter(y_train_pred, y_train_pred-y_train, c='blue', marker='s', label='Training data')\n",
    "plt.scatter(y_test_pred, y_test_pred-y_test, c='lightgreen', marker='s', label='Validation data')\n",
    "plt.title('Linear regression')\n",
    "plt.xlabel('Predicted values')\n",
    "plt.ylabel('Residuals')\n",
    "plt.legend()\n",
    "plt.hlines(y=0, xmin=10.5, xmax=13.5, color='red')\n",
    "plt.show()\n",
    "\n",
    "\n",
    "#plot prediction\n",
    "plt.scatter(y_train_pred, y_train, c='blue', marker='s', label='Training data')\n",
    "plt.scatter(y_test_pred, y_test, c='lightgreen', marker='s', label='Validation data')\n",
    "plt.title('LinearRegression')\n",
    "plt.xlabel('Predicted values')\n",
    "plt.ylabel('Real values')\n",
    "plt.legend()\n",
    "plt.plot([10.5,13.5],[10.5,13.5], c='red')\n",
    "plt.show()"
   ]
  },
  {
   "cell_type": "code",
   "execution_count": null,
   "metadata": {},
   "outputs": [],
   "source": []
  },
  {
   "cell_type": "code",
   "execution_count": null,
   "metadata": {},
   "outputs": [],
   "source": []
  },
  {
   "cell_type": "code",
   "execution_count": null,
   "metadata": {},
   "outputs": [],
   "source": []
  },
  {
   "cell_type": "markdown",
   "metadata": {},
   "source": [
    "# 2. Linear Regression with Ridge regularization (L2 penalty)"
   ]
  },
  {
   "cell_type": "code",
   "execution_count": 34,
   "metadata": {},
   "outputs": [
    {
     "name": "stdout",
     "output_type": "stream",
     "text": [
      "Best alpha : 10.0\n",
      "Try again for more precision with alphas centered around 10.0\n",
      "Best alpha : 11.5\n",
      "Ridge RMSE on Training set : 0.12372057917513742\n"
     ]
    },
    {
     "name": "stderr",
     "output_type": "stream",
     "text": [
      "/home/tam/anaconda3/lib/python3.7/site-packages/sklearn/model_selection/_search.py:841: DeprecationWarning: The default of the `iid` parameter will change from True to False in version 0.22 and will be removed in 0.24. This will change numeric results when test-set sizes are unequal.\n",
      "  DeprecationWarning)\n",
      "/home/tam/anaconda3/lib/python3.7/site-packages/sklearn/model_selection/_search.py:841: DeprecationWarning: The default of the `iid` parameter will change from True to False in version 0.22 and will be removed in 0.24. This will change numeric results when test-set sizes are unequal.\n",
      "  DeprecationWarning)\n",
      "/home/tam/anaconda3/lib/python3.7/site-packages/sklearn/model_selection/_search.py:841: DeprecationWarning: The default of the `iid` parameter will change from True to False in version 0.22 and will be removed in 0.24. This will change numeric results when test-set sizes are unequal.\n",
      "  DeprecationWarning)\n",
      "/home/tam/anaconda3/lib/python3.7/site-packages/sklearn/model_selection/_search.py:841: DeprecationWarning: The default of the `iid` parameter will change from True to False in version 0.22 and will be removed in 0.24. This will change numeric results when test-set sizes are unequal.\n",
      "  DeprecationWarning)\n",
      "/home/tam/anaconda3/lib/python3.7/site-packages/sklearn/model_selection/_search.py:841: DeprecationWarning: The default of the `iid` parameter will change from True to False in version 0.22 and will be removed in 0.24. This will change numeric results when test-set sizes are unequal.\n",
      "  DeprecationWarning)\n"
     ]
    },
    {
     "name": "stdout",
     "output_type": "stream",
     "text": [
      "Ridge RMSE on Test set : 0.15305136725509194\n"
     ]
    },
    {
     "data": {
      "image/png": "[encoded data removed]",
      "text/plain": [
       "<Figure size 432x288 with 1 Axes>"
      ]
     },
     "metadata": {
      "needs_background": "light"
     },
     "output_type": "display_data"
    },
    {
     "data": {
      "image/png": "[encoded data removed]",
      "text/plain": [
       "<Figure size 432x288 with 1 Axes>"
      ]
     },
     "metadata": {
      "needs_background": "light"
     },
     "output_type": "display_data"
    },
    {
     "name": "stdout",
     "output_type": "stream",
     "text": [
      "Ridge picked 315 features and eliminated the other 6 features\n"
     ]
    },
    {
     "data": {
      "image/png": "[encoded data removed]",
      "text/plain": [
       "<Figure size 432x288 with 1 Axes>"
      ]
     },
     "metadata": {
      "needs_background": "light"
     },
     "output_type": "display_data"
    }
   ],
   "source": [
    "# 2* Ridge\n",
    "ridge = RidgeCV(alphas = [0.01, 0.03, 0.06, 0.1, 0.3, 0.6, 1, 3, 6, 10, 30, 60])\n",
    "ridge.fit(X_train, y_train)\n",
    "alpha = ridge.alpha_\n",
    "print(\"Best alpha :\", alpha)\n",
    "\n",
    "print(\"Try again for more precision with alphas centered around \" + str(alpha))\n",
    "ridge = RidgeCV(alphas = [alpha * .6, alpha * .65, alpha * .7, alpha * .75, alpha * .8, alpha * .85, \n",
    "                          alpha * .9, alpha * .95, alpha, alpha * 1.05, alpha * 1.1, alpha * 1.15,\n",
    "                          alpha * 1.25, alpha * 1.3, alpha * 1.35, alpha * 1.4], \n",
    "                cv = 10)\n",
    "ridge.fit(X_train, y_train)\n",
    "alpha = ridge.alpha_\n",
    "print(\"Best alpha :\", alpha)\n",
    "\n",
    "print(\"Ridge RMSE on Training set :\", rmse_cv_train(ridge).mean())\n",
    "print(\"Ridge RMSE on Test set :\", rmse_cv_test(ridge).mean())\n",
    "y_train_rdg = ridge.predict(X_train)\n",
    "y_test_rdg = ridge.predict(X_test)\n",
    "\n",
    "# Plot residuals\n",
    "plt.scatter(y_train_rdg, y_train_rdg - y_train, c = \"blue\", marker = \"s\", label = \"Training data\")\n",
    "plt.scatter(y_test_rdg, y_test_rdg - y_test, c = \"lightgreen\", marker = \"s\", label = \"Validation data\")\n",
    "plt.title(\"Linear regression with Ridge regularization\")\n",
    "plt.xlabel(\"Predicted values\")\n",
    "plt.ylabel(\"Residuals\")\n",
    "plt.legend(loc = \"upper left\")\n",
    "plt.hlines(y = 0, xmin = 10.5, xmax = 13.5, color = \"red\")\n",
    "plt.show()\n",
    "\n",
    "# Plot predictions\n",
    "plt.scatter(y_train_rdg, y_train, c = \"blue\", marker = \"s\", label = \"Training data\")\n",
    "plt.scatter(y_test_rdg, y_test, c = \"lightgreen\", marker = \"s\", label = \"Validation data\")\n",
    "plt.title(\"Linear regression with Ridge regularization\")\n",
    "plt.xlabel(\"Predicted values\")\n",
    "plt.ylabel(\"Real values\")\n",
    "plt.legend(loc = \"upper left\")\n",
    "plt.plot([10.5, 13.5], [10.5, 13.5], c = \"red\")\n",
    "plt.show()\n",
    "\n",
    "# Plot important coefficients\n",
    "coefs = pd.Series(ridge.coef_, index = X_train.columns)\n",
    "print(\"Ridge picked \" + str(sum(coefs != 0)) + \" features and eliminated the other \" +  \\\n",
    "      str(sum(coefs == 0)) + \" features\")\n",
    "imp_coefs = pd.concat([coefs.sort_values().head(10),\n",
    "                     coefs.sort_values().tail(10)])\n",
    "imp_coefs.plot(kind = \"barh\")\n",
    "plt.title(\"Coefficients in the Ridge Model\")\n",
    "plt.show()"
   ]
  },
  {
   "cell_type": "markdown",
   "metadata": {},
   "source": [
    "We're getting a much better RMSE result now that we've added regularization. The very small difference between training and test results indicate that we eliminated most of the overfitting. Visually, the graphs seem to confirm that idea.\n",
    "\n",
    "Ridge used almost all of the existing features."
   ]
  },
  {
   "cell_type": "markdown",
   "metadata": {},
   "source": [
    "3* Linear Regression with Lasso regularization (L1 penalty)\n",
    "\n",
    "LASSO stands for Least Absolute Shrinkage and Selection Operator. It is an alternative regularization method, where we simply replace the square of the weights by the sum of the absolute value of the weights. In contrast to L2 regularization, L1 regularization yields sparse feature vectors : most feature weights will be zero. Sparsity can be useful in practice if we have a high dimensional dataset with many features that are irrelevant.\n",
    "\n",
    "We can suspect that it should be more efficient than Ridge here."
   ]
  },
  {
   "cell_type": "code",
   "execution_count": 35,
   "metadata": {},
   "outputs": [
    {
     "name": "stdout",
     "output_type": "stream",
     "text": [
      "Best alpha : 0.0006\n",
      "Try again for more precision with alphas centered around 0.0006\n",
      "Best alpha : 0.00054\n",
      "Lasso RMSE on Training set : 0.11992641662579673\n",
      "Lasso RMSE on Test set : 0.15729481328183964\n"
     ]
    },
    {
     "data": {
      "image/png": "[encoded data removed]",
      "text/plain": [
       "<Figure size 432x288 with 1 Axes>"
      ]
     },
     "metadata": {
      "needs_background": "light"
     },
     "output_type": "display_data"
    },
    {
     "data": {
      "image/png": "[encoded data removed]",
      "text/plain": [
       "<Figure size 432x288 with 1 Axes>"
      ]
     },
     "metadata": {
      "needs_background": "light"
     },
     "output_type": "display_data"
    },
    {
     "name": "stdout",
     "output_type": "stream",
     "text": [
      "Lasso picked 124 features and eliminated the other 197 features\n"
     ]
    },
    {
     "data": {
      "image/png": "[encoded data removed]",
      "text/plain": [
       "<Figure size 432x288 with 1 Axes>"
      ]
     },
     "metadata": {
      "needs_background": "light"
     },
     "output_type": "display_data"
    }
   ],
   "source": [
    "# 3* Lasso\n",
    "lasso = LassoCV(alphas = [0.0001, 0.0003, 0.0006, 0.001, 0.003, 0.006, 0.01, 0.03, 0.06, 0.1, \n",
    "                          0.3, 0.6, 1], \n",
    "                max_iter = 50000, cv = 10)\n",
    "lasso.fit(X_train, y_train)\n",
    "alpha = lasso.alpha_\n",
    "print(\"Best alpha :\", alpha)\n",
    "\n",
    "print(\"Try again for more precision with alphas centered around \" + str(alpha))\n",
    "lasso = LassoCV(alphas = [alpha * .6, alpha * .65, alpha * .7, alpha * .75, alpha * .8, \n",
    "                          alpha * .85, alpha * .9, alpha * .95, alpha, alpha * 1.05, \n",
    "                          alpha * 1.1, alpha * 1.15, alpha * 1.25, alpha * 1.3, alpha * 1.35, \n",
    "                          alpha * 1.4], \n",
    "                max_iter = 50000, cv = 10)\n",
    "lasso.fit(X_train, y_train)\n",
    "alpha = lasso.alpha_\n",
    "print(\"Best alpha :\", alpha)\n",
    "\n",
    "print(\"Lasso RMSE on Training set :\", rmse_cv_train(lasso).mean())\n",
    "print(\"Lasso RMSE on Test set :\", rmse_cv_test(lasso).mean())\n",
    "y_train_las = lasso.predict(X_train)\n",
    "y_test_las = lasso.predict(X_test)\n",
    "\n",
    "# Plot residuals\n",
    "plt.scatter(y_train_las, y_train_las - y_train, c = \"blue\", marker = \"s\", label = \"Training data\")\n",
    "plt.scatter(y_test_las, y_test_las - y_test, c = \"lightgreen\", marker = \"s\", label = \"Validation data\")\n",
    "plt.title(\"Linear regression with Lasso regularization\")\n",
    "plt.xlabel(\"Predicted values\")\n",
    "plt.ylabel(\"Residuals\")\n",
    "plt.legend(loc = \"upper left\")\n",
    "plt.hlines(y = 0, xmin = 10.5, xmax = 13.5, color = \"red\")\n",
    "plt.show()\n",
    "\n",
    "# Plot predictions\n",
    "plt.scatter(y_train_las, y_train, c = \"blue\", marker = \"s\", label = \"Training data\")\n",
    "plt.scatter(y_test_las, y_test, c = \"lightgreen\", marker = \"s\", label = \"Validation data\")\n",
    "plt.title(\"Linear regression with Lasso regularization\")\n",
    "plt.xlabel(\"Predicted values\")\n",
    "plt.ylabel(\"Real values\")\n",
    "plt.legend(loc = \"upper left\")\n",
    "plt.plot([10.5, 13.5], [10.5, 13.5], c = \"red\")\n",
    "plt.show()\n",
    "\n",
    "# Plot important coefficients\n",
    "coefs = pd.Series(lasso.coef_, index = X_train.columns)\n",
    "print(\"Lasso picked \" + str(sum(coefs != 0)) + \" features and eliminated the other \" +  \\\n",
    "      str(sum(coefs == 0)) + \" features\")\n",
    "imp_coefs = pd.concat([coefs.sort_values().head(10),\n",
    "                     coefs.sort_values().tail(10)])\n",
    "imp_coefs.plot(kind = \"barh\")\n",
    "plt.title(\"Coefficients in the Lasso Model\")\n",
    "plt.show()"
   ]
  },
  {
   "cell_type": "markdown",
   "metadata": {},
   "source": [
    "RMSE results are better both on training and test sets. The most interesting thing is that Lasso used only one third of the available features. Another interesting tidbit : it seems to give big weights to Neighborhood categories, both in positive and negative ways. Intuitively it makes sense, house prices change a whole lot from one neighborhood to another in the same city.\n",
    "\n",
    "The \"MSZoning_C (all)\" feature seems to have a disproportionate impact compared to the others. It is defined as general zoning classification : commercial. It seems a bit weird to me that having your house in a mostly commercial zone would be such a terrible thing."
   ]
  },
  {
   "cell_type": "markdown",
   "metadata": {},
   "source": [
    "\n",
    "# 4 Linear Regression with ElasticNet regularization (L1 and L2 penalty)"
   ]
  },
  {
   "cell_type": "markdown",
   "metadata": {},
   "source": [
    "ElasticNet is a compromise between Ridge and Lasso regression. It has a L1 penalty to generate sparsity and a L2 penalty to overcome some of the limitations of Lasso, such as the number of variables (Lasso can't select more features than it has observations, but it's not the case here anyway)."
   ]
  },
  {
   "cell_type": "code",
   "execution_count": 36,
   "metadata": {},
   "outputs": [
    {
     "name": "stdout",
     "output_type": "stream",
     "text": [
      "Best l1_ratio : 0.95\n",
      "Best alpha : 0.0006\n",
      "Try again for more precision with l1_ratio centered around 0.95\n",
      "Best l1_ratio : 0.95\n",
      "Best alpha : 0.0006\n",
      "Now try again for more precision on alpha, with l1_ratio fixed at 0.95 and alpha centered around 0.0006\n",
      "Best l1_ratio : 0.95\n",
      "Best alpha : 0.00057\n",
      "ElasticNet RMSE on Training set : 0.11990798435632374\n",
      "ElasticNet RMSE on Test set : 0.15749063155139761\n"
     ]
    },
    {
     "data": {
      "image/png": "[encoded data removed]",
      "text/plain": [
       "<Figure size 432x288 with 1 Axes>"
      ]
     },
     "metadata": {
      "needs_background": "light"
     },
     "output_type": "display_data"
    },
    {
     "data": {
      "image/png": "[encoded data removed]",
      "text/plain": [
       "<Figure size 432x288 with 1 Axes>"
      ]
     },
     "metadata": {
      "needs_background": "light"
     },
     "output_type": "display_data"
    },
    {
     "name": "stdout",
     "output_type": "stream",
     "text": [
      "ElasticNet picked 125 features and eliminated the other 196 features\n"
     ]
    },
    {
     "data": {
      "image/png": "[encoded data removed]",
      "text/plain": [
       "<Figure size 432x288 with 1 Axes>"
      ]
     },
     "metadata": {
      "needs_background": "light"
     },
     "output_type": "display_data"
    }
   ],
   "source": [
    "# 4* ElasticNet\n",
    "elasticNet = ElasticNetCV(l1_ratio = [0.1, 0.3, 0.5, 0.6, 0.7, 0.8, 0.85, 0.9, 0.95, 1],\n",
    "                          alphas = [0.0001, 0.0003, 0.0006, 0.001, 0.003, 0.006, \n",
    "                                    0.01, 0.03, 0.06, 0.1, 0.3, 0.6, 1, 3, 6], \n",
    "                          max_iter = 50000, cv = 10)\n",
    "elasticNet.fit(X_train, y_train)\n",
    "alpha = elasticNet.alpha_\n",
    "ratio = elasticNet.l1_ratio_\n",
    "print(\"Best l1_ratio :\", ratio)\n",
    "print(\"Best alpha :\", alpha )\n",
    "\n",
    "print(\"Try again for more precision with l1_ratio centered around \" + str(ratio))\n",
    "elasticNet = ElasticNetCV(l1_ratio = [ratio * .85, ratio * .9, ratio * .95, ratio, ratio * 1.05, ratio * 1.1, ratio * 1.15],\n",
    "                          alphas = [0.0001, 0.0003, 0.0006, 0.001, 0.003, 0.006, 0.01, 0.03, 0.06, 0.1, 0.3, 0.6, 1, 3, 6], \n",
    "                          max_iter = 50000, cv = 10)\n",
    "elasticNet.fit(X_train, y_train)\n",
    "if (elasticNet.l1_ratio_ > 1):\n",
    "    elasticNet.l1_ratio_ = 1    \n",
    "alpha = elasticNet.alpha_\n",
    "ratio = elasticNet.l1_ratio_\n",
    "print(\"Best l1_ratio :\", ratio)\n",
    "print(\"Best alpha :\", alpha )\n",
    "\n",
    "print(\"Now try again for more precision on alpha, with l1_ratio fixed at \" + str(ratio) + \n",
    "      \" and alpha centered around \" + str(alpha))\n",
    "elasticNet = ElasticNetCV(l1_ratio = ratio,\n",
    "                          alphas = [alpha * .6, alpha * .65, alpha * .7, alpha * .75, alpha * .8, alpha * .85, alpha * .9, \n",
    "                                    alpha * .95, alpha, alpha * 1.05, alpha * 1.1, alpha * 1.15, alpha * 1.25, alpha * 1.3, \n",
    "                                    alpha * 1.35, alpha * 1.4], \n",
    "                          max_iter = 50000, cv = 10)\n",
    "elasticNet.fit(X_train, y_train)\n",
    "if (elasticNet.l1_ratio_ > 1):\n",
    "    elasticNet.l1_ratio_ = 1    \n",
    "alpha = elasticNet.alpha_\n",
    "ratio = elasticNet.l1_ratio_\n",
    "print(\"Best l1_ratio :\", ratio)\n",
    "print(\"Best alpha :\", alpha )\n",
    "\n",
    "print(\"ElasticNet RMSE on Training set :\", rmse_cv_train(elasticNet).mean())\n",
    "print(\"ElasticNet RMSE on Test set :\", rmse_cv_test(elasticNet).mean())\n",
    "y_train_ela = elasticNet.predict(X_train)\n",
    "y_test_ela = elasticNet.predict(X_test)\n",
    "\n",
    "# Plot residuals\n",
    "plt.scatter(y_train_ela, y_train_ela - y_train, c = \"blue\", marker = \"s\", label = \"Training data\")\n",
    "plt.scatter(y_test_ela, y_test_ela - y_test, c = \"lightgreen\", marker = \"s\", label = \"Validation data\")\n",
    "plt.title(\"Linear regression with ElasticNet regularization\")\n",
    "plt.xlabel(\"Predicted values\")\n",
    "plt.ylabel(\"Residuals\")\n",
    "plt.legend(loc = \"upper left\")\n",
    "plt.hlines(y = 0, xmin = 10.5, xmax = 13.5, color = \"red\")\n",
    "plt.show()\n",
    "\n",
    "# Plot predictions\n",
    "plt.scatter(y_train, y_train_ela, c = \"blue\", marker = \"s\", label = \"Training data\")\n",
    "plt.scatter(y_test, y_test_ela, c = \"lightgreen\", marker = \"s\", label = \"Validation data\")\n",
    "plt.title(\"Linear regression with ElasticNet regularization\")\n",
    "plt.xlabel(\"Predicted values\")\n",
    "plt.ylabel(\"Real values\")\n",
    "plt.legend(loc = \"upper left\")\n",
    "plt.plot([10.5, 13.5], [10.5, 13.5], c = \"red\")\n",
    "plt.show()\n",
    "\n",
    "# Plot important coefficients\n",
    "coefs = pd.Series(elasticNet.coef_, index = X_train.columns)\n",
    "print(\"ElasticNet picked \" + str(sum(coefs != 0)) + \" features and eliminated the other \" +  str(sum(coefs == 0)) + \" features\")\n",
    "imp_coefs = pd.concat([coefs.sort_values().head(10),\n",
    "                     coefs.sort_values().tail(10)])\n",
    "imp_coefs.plot(kind = \"barh\")\n",
    "plt.title(\"Coefficients in the ElasticNet Model\")\n",
    "plt.show()"
   ]
  },
  {
   "cell_type": "markdown",
   "metadata": {},
   "source": [
    "The optimal L1 ratio used by ElasticNet here is equal to 1, which means it is exactly equal to the Lasso regressor we used earlier (and had it been equal to 0, it would have been exactly equal to our Ridge regressor). The model didn't need any L2 regularization to overcome any potential L1 shortcoming.\n",
    "\n",
    "Note : I tried to remove the \"MSZoning_C (all)\" feature, it resulted in a slightly worse CV score, but slightly better public LB score."
   ]
  },
  {
   "cell_type": "markdown",
   "metadata": {},
   "source": [
    "Note: I am a beginner to machine learning and kaggle. I just followed the following kaggle page. \n",
    "    https://www.kaggle.com/juliencs/a-study-on-regression-applied-to-the-ames-dataset\n",
    "        \n",
    "        if you find this work interesting and found mistake in my notebook please refer the original link.\n",
    "        \n",
    "        "
   ]
  },
  {
   "cell_type": "code",
   "execution_count": null,
   "metadata": {},
   "outputs": [],
   "source": []
  }
 ],
 "metadata": {
  "kernelspec": {
   "display_name": "Python 3",
   "language": "python",
   "name": "python3"
  },
  "language_info": {
   "codemirror_mode": {
    "name": "ipython",
    "version": 3
   },
   "file_extension": ".py",
   "mimetype": "text/x-python",
   "name": "python",
   "nbconvert_exporter": "python",
   "pygments_lexer": "ipython3",
   "version": "3.7.1"
  }
 },
 "nbformat": 4,
 "nbformat_minor": 2
}
